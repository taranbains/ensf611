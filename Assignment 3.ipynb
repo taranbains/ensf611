{
 "cells": [
  {
   "cell_type": "markdown",
   "id": "92778525",
   "metadata": {},
   "source": [
    "# Assignment 3: Non-Linear Models and Validation Metrics (37 total marks)\n",
    "### Due: October 24 at 11:59pm\n",
    "\n",
    "### Name: "
   ]
  },
  {
   "cell_type": "markdown",
   "id": "ce31b39a",
   "metadata": {},
   "source": [
    "### In this assignment, you will need to write code that uses non-linear models to perform classification and regression tasks. You will also be asked to describe the process by which you came up with the code. More details can be found below. Please cite any websites or AI tools that you used to help you with this assignment."
   ]
  },
  {
   "cell_type": "markdown",
   "id": "cf275ca7",
   "metadata": {},
   "source": [
    "### Import Libraries"
   ]
  },
  {
   "cell_type": "code",
   "execution_count": 4,
   "id": "2b67a661",
   "metadata": {
    "tags": []
   },
   "outputs": [],
   "source": [
    "import numpy as np\n",
    "import pandas as pd\n",
    "import matplotlib.pyplot as plt\n",
    "import seaborn as sns"
   ]
  },
  {
   "cell_type": "markdown",
   "id": "5ee2d2c3",
   "metadata": {},
   "source": [
    "## Part 1: Regression (14.5 marks)\n",
    "\n",
    "For this section, we will be continuing with the concrete example from yellowbrick. You will need to compare these results to the results from the previous assignment. Please use the results from the solution if you were unable to complete Assignment 2"
   ]
  },
  {
   "cell_type": "markdown",
   "id": "8219f163",
   "metadata": {},
   "source": [
    "### Step 1: Data Input (0.5 marks)\n",
    "\n",
    "The data used for this task can be downloaded using the yellowbrick library: \n",
    "https://www.scikit-yb.org/en/latest/api/datasets/concrete.html\n",
    "\n",
    "Use the yellowbrick function `load_concrete()` to load the concrete dataset into the feature matrix `X` and target vector `y`."
   ]
  },
  {
   "cell_type": "code",
   "execution_count": 5,
   "id": "2af8bd32",
   "metadata": {
    "tags": []
   },
   "outputs": [],
   "source": [
    "# TO DO: Import concrete dataset from yellowbrick library\n",
    "from yellowbrick.datasets import load_concrete\n",
    "X, y = load_concrete()"
   ]
  },
  {
   "cell_type": "markdown",
   "id": "42fea4cc",
   "metadata": {},
   "source": [
    "### Step 2: Data Processing (0 marks)\n",
    "\n",
    "Data processing was completed in the previous assignment. No need to repeat here."
   ]
  },
  {
   "cell_type": "markdown",
   "id": "2a245d00",
   "metadata": {
    "tags": []
   },
   "source": [
    "### Step 3: Implement Machine Learning Model\n",
    "\n",
    "1. Import the Decision Tree, Random Forest and Gradient Boosting Machines regression models from sklearn\n",
    "2. Instantiate the three models with `max_depth = 5`. Are there any other parameters that you will need to set?\n",
    "3. Implement each machine learning model with `X` and `y`"
   ]
  },
  {
   "cell_type": "markdown",
   "id": "3f994e31",
   "metadata": {},
   "source": [
    "### Step 4: Validate Model\n",
    "\n",
    "Calculate the average training and validation accuracy using mean squared error with cross-validation. To do this, you will need to set `scoring='neg_mean_squared_error'` in your `cross_validate` function and negate the results (multiply by -1)"
   ]
  },
  {
   "cell_type": "markdown",
   "id": "5fc3f7a8",
   "metadata": {},
   "source": [
    "### Step 5: Visualize Results (4 marks)\n",
    "\n",
    "1. Create a pandas DataFrame `results` with columns: Training accuracy and Validation accuracy, and index: DT, RF and GB\n",
    "2. Add the accuracy results to the `results` DataFrame\n",
    "3. Print `results`"
   ]
  },
  {
   "cell_type": "code",
   "execution_count": 24,
   "id": "fdc93a78",
   "metadata": {
    "tags": []
   },
   "outputs": [],
   "source": [
    "# TO DO: ADD YOUR CODE HERE FOR STEPS 3-5\n",
    "# Note: for any random state parameters, you can use random_state = 0\n",
    "# HINT: USING A LOOP TO STORE THE DATA IN YOUR RESULTS DATAFRAME WILL BE MORE EFFICIENT\n",
    "\n",
    "from sklearn.model_selection import train_test_split\n",
    "from sklearn.model_selection import cross_validate\n",
    "\n",
    "scoring = \"neg_mean_squared_error\" \n",
    "\n",
    "# ----------------- Decision Tree -------------------\n",
    "\n",
    "from sklearn.tree import DecisionTreeRegressor\n",
    "\n",
    "X_train, X_val, y_train, y_val = train_test_split(X, y, random_state=0)\n",
    "tree = DecisionTreeRegressor(max_depth=5, random_state=0)\n",
    "tree.fit(X_train, y_train)\n",
    "\n",
    "dt_cross_score = cross_validate(tree, X_train, y_train, scoring=scoring, return_train_score=True)    # cv = 5????? \n",
    "\n",
    "for key in dt_cross_score:                                     # negate results \n",
    "    if key.startswith('test_') or key.startswith('train_'):\n",
    "        dt_cross_score[key] = -dt_cross_score[key]\n",
    "    \n",
    "# Calculate the average training and validation accuracy \n",
    "dt_train_acc = dt_cross_score['train_score'].mean()\n",
    "dt_valid_acc = dt_cross_score['test_score'].mean()\n",
    "\n",
    "\n",
    "# ---------------- Random Forest --------------------\n",
    "from sklearn.ensemble import RandomForestRegressor\n",
    "\n",
    "forest = RandomForestRegressor(max_depth=5,random_state=0)\n",
    "forest.fit(X_train, y_train)\n",
    "\n",
    "rf_cross_score = cross_validate(forest, X_train, y_train, scoring=scoring, return_train_score=True)\n",
    "\n",
    "for key in rf_cross_score:  # negate results \n",
    "    if key.startswith('test_') or key.startswith('train_'):\n",
    "        rf_cross_score[key] = -rf_cross_score[key]\n",
    "    \n",
    "# Calculate the average training and validation accuracy \n",
    "rf_train_acc = rf_cross_score['train_score'].mean()\n",
    "rf_valid_acc = rf_cross_score['test_score'].mean()\n",
    "\n",
    "\n",
    "# ----------------- Gradient Boosting -------------------\n",
    "from sklearn.ensemble import GradientBoostingRegressor\n",
    "\n",
    "X_train, X_val, y_train, y_val = train_test_split(X, y, random_state=0)\n",
    "\n",
    "gbrt = GradientBoostingRegressor(max_depth=5, random_state=0)\n",
    "gbrt.fit(X_train, y_train)\n",
    "\n",
    "gb_cross_score = cross_validate(gbrt, X_train, y_train, scoring=scoring, return_train_score=True)\n",
    "\n",
    "for key in gb_cross_score:  # negate results \n",
    "    if key.startswith('test_') or key.startswith('train_'):\n",
    "        gb_cross_score[key] = -gb_cross_score[key]\n",
    "    \n",
    "# Calculate the average training and validation accuracy \n",
    "gb_train_acc = gb_cross_score['train_score'].mean()\n",
    "gb_valid_acc = gb_cross_score['test_score'].mean()"
   ]
  },
  {
   "cell_type": "code",
   "execution_count": 43,
   "id": "2bf3d515-3b19-4746-9a31-165564a891c4",
   "metadata": {
    "tags": []
   },
   "outputs": [
    {
     "name": "stdout",
     "output_type": "stream",
     "text": [
      "   Training Accuracy Validation Accuracy\n",
      "DT         47.279761           73.447331\n",
      "RF         29.577455           45.059351\n",
      "GB           3.37944           22.783221\n"
     ]
    }
   ],
   "source": [
    "# ---------------- Visualize Results for MSE ---------------------\n",
    "\n",
    "# Create a pandas DataFrame results with columns: Training accuracy and Validation accuracy, and index: DT, RF and GB\n",
    "# Add the accuracy results to the results DataFrame\n",
    "# Print results\n",
    "\n",
    "results = pd.DataFrame(columns=[\"Training Accuracy\", \"Validation Accuracy\"], index=['DT', 'RF', 'GB'])\n",
    "\n",
    "results.iloc[0] = [dt_train_acc, dt_valid_acc]   # Decision Tree, DT\n",
    "results.iloc[1] = [rf_train_acc, rf_valid_acc]   # Random Forest, RF\n",
    "results.iloc[2] = [gb_train_acc, gb_valid_acc]   # Gradient Boosting,GB\n",
    "\n",
    "print(results)"
   ]
  },
  {
   "cell_type": "markdown",
   "id": "31715a9d",
   "metadata": {},
   "source": [
    "Repeat the step above to print the R2 score instead of the mean-squared error. For this case, you can use `scoring='r2'`"
   ]
  },
  {
   "cell_type": "code",
   "execution_count": 44,
   "id": "83539f47",
   "metadata": {
    "tags": []
   },
   "outputs": [
    {
     "name": "stdout",
     "output_type": "stream",
     "text": [
      "   Training Accuracy Validation Accuracy\n",
      "DT          0.834465            0.738697\n",
      "RF          0.896557            0.840927\n",
      "GB          0.988171            0.919471\n"
     ]
    }
   ],
   "source": [
    "# ---------------- Visualize Results for R2 ---------------------\n",
    "scoring_r2 = \"r2\" \n",
    "\n",
    "models_list = (tree, forest, gbrt)\n",
    "results_r2 = pd.DataFrame(columns=[\"Training Accuracy\", \"Validation Accuracy\"], index=['DT', 'RF', 'GB'])\n",
    "i = 0\n",
    "\n",
    "for model in models_list: \n",
    "    cross_score = cross_validate(model, X_train, y_train, scoring=scoring_r2, return_train_score=True) \n",
    "    results_r2.iloc[i] = [cross_score['train_score'].mean(), cross_score['test_score'].mean()]\n",
    "    i+=1 \n",
    "\n",
    "print(results_r2)"
   ]
  },
  {
   "cell_type": "markdown",
   "id": "a5257a98",
   "metadata": {},
   "source": [
    "### Questions (6 marks)\n",
    "1. How do these results compare to the results using a linear model in the previous assignment? Use values.\n",
    "1. Out of the models you tested, which model would you select for this dataset and why?\n",
    "1. If you wanted to increase the accuracy of the tree-based models, what would you do? Provide two suggestions."
   ]
  },
  {
   "cell_type": "raw",
   "id": "647f7e03-26ff-472a-93c6-0cb34e6fd736",
   "metadata": {
    "tags": []
   },
   "source": [
    "1. These results are a lot better for the non-linear models vs the linear regression models from the previous assignment. The accuracy of the linear model from the previous assignment was training: 61% and validation: 62% which are both a lot lower than all of the non-linear models tested here. The MSE was also a lot higher for the linear model, at training: 111 and validation: 96. The most basic non-linear model, the decision tree, is significantly better with lower MSE's, training: 47, validation: 73, and higher accuracy, training: 83% and validation 74%. The more complex the non-linear model got, the better the MSE and accuracy score. \n",
    "\n",
    "Note: I rounded the above values for easier reading. \n",
    "\n",
    "2. I would choose the Gradient Boosting model, as its accuracy scores are training: 99% and validation 92% and mse scores are training: 3.4 and validation: 23. Now the approximately 99% training accuracy is a little suspicious and may indicate that the model could be overfitting to the dataset, the accuracy score and mse on the validation is still significantly better than the other two non-linear models. The decision tree has relatively the worst results with MSE's of training: 47 and validation: 73 and accuracies of training: 83% and validation 74%. The Random Forest is in the middle of the two models with MSE's of training: 30 and validation: 45 and accuracies of training: 90% and validation 84%. In my opinion, all 3 model accuracies are quite acceptable but including the mse values as well, I think gradient boosting is the best here.  \n",
    "\n",
    "Note to self: MSE is useful for comparing the performance of different models.   \n",
    "\n",
    "3. I would potentially increase the depth of the models, because we have it capped at 5 right now and an increase could help the model fit more to the data, but we don't want to risk overfitting. Could try different pruning techniques on the decision tree, such as limiting the max leaves vs currently we have set a limit to the max depth. We could also potentially adjust the maximum features on random forest model, because we are currently just limiting the depth, but with max features already on auto this may not get us anywhere. We could also try playing around with the n_estimators and learning_rate for the gradient boosted machine model and pre-prune the data for it but there is a change its currently overfitting.\n"
   ]
  },
  {
   "cell_type": "markdown",
   "id": "37b238f4",
   "metadata": {},
   "source": [
    "### Process Description (4 marks)\n",
    "Please describe the process you used to create your code. Cite any websites or generative AI tools used. You can use the following questions as guidance:\n",
    "1. Where did you source your code?\n",
    "1. In what order did you complete the steps?\n",
    "1. If you used generative AI, what prompts did you use? Did you need to modify the code at all? Why or why not?\n",
    "1. Did you have any challenges? If yes, what were they? If not, what helped you to be successful?"
   ]
  },
  {
   "cell_type": "markdown",
   "id": "93097bfe",
   "metadata": {},
   "source": [
    "I used chatGPT before starting the assignment and asked it to give me a brief and simple explanation of what Decision Tree, Random Forest and Gradient Boosting were as a refresher. I did each step in order as its written. I used most of the code from examples in class and I used the attached links as sort of refreshers of how to make/edit dataframe objects for the results dataframe because I forget the syntax. And I got very confused on cross_validate and read the attached link and used the code from there and compared to in-class example to complete that part of the assignment.\n",
    "I find it challenging to understand all the different terms and what the values I get actually mean, but I think that is the whole point of the assignment. \n",
    "\n",
    "https://machinelearningmastery.com/training-validation-test-split-and-cross-validation-done-right/\n",
    "https://stackoverflow.com/questions/19851005/rename-pandas-dataframe-index\n",
    "https://www.geeksforgeeks.org/adding-new-column-to-existing-dataframe-in-pandas/"
   ]
  },
  {
   "cell_type": "markdown",
   "id": "f7c6de86",
   "metadata": {},
   "source": [
    "## Part 2: Classification (17.5 marks)\n",
    "\n",
    "You have been asked to develop code that can help the user classify different wine samples. Following the machine learning workflow described in class, write the relevant code in each of the steps below:"
   ]
  },
  {
   "cell_type": "markdown",
   "id": "5f9d33a8",
   "metadata": {},
   "source": [
    "### Step 1: Data Input (2 marks)\n",
    "\n",
    "The data used for this task can be downloaded from UCI: https://archive.ics.uci.edu/dataset/109/wine\n",
    "\n",
    "Use the pandas library to load the dataset. You must define the column headers if they are not included in the dataset \n",
    "\n",
    "You will need to split the dataset into feature matrix `X` and target vector `y`. Which column represents the target vector?\n",
    "\n",
    "Print the size and type of `X` and `y`"
   ]
  },
  {
   "cell_type": "code",
   "execution_count": 80,
   "id": "33583c67",
   "metadata": {
    "tags": []
   },
   "outputs": [
    {
     "name": "stdout",
     "output_type": "stream",
     "text": [
      "X: size is 2314 and type is <class 'pandas.core.frame.DataFrame'>\n",
      "y: size is 178 and type is <class 'pandas.core.series.Series'>\n"
     ]
    }
   ],
   "source": [
    "# Import wine dataset\n",
    "\n",
    "url = \"file:///C:/Users/bains/OneDrive/Desktop/UoC%20-%20Fall2023/ensf611/Assignment3/wine/wine.data\"\n",
    "column_headers = [\"class\", \"Alcohol\", \"Malic acid\", \"Ash\", \"Alcalinity of ash\", \"Magnesium\",\n",
    "                 \"Total phenols\", \"Flavanoids\", \"Nonflavanoid phenols\", \"Proanthocyanins\",\n",
    "                 \"Colour intensity\", \"Hue\", \"OD280/OD315 of diluted wines\", \"Proline \"]\n",
    "\n",
    "wine_data = pd.read_csv(url, names=column_headers)\n",
    "\n",
    "X_wine = wine_data.drop('class', axis=1)\n",
    "y_wine = wine_data['class'] # target vector is the class column, which I read from the download website \n",
    "\n",
    "print(\"X: size is {0} and type is {1}\".format(X_wine.size, type(X_wine)))\n",
    "print(\"y: size is {0} and type is {1}\".format(y_wine.size, type(y_wine)))"
   ]
  },
  {
   "cell_type": "markdown",
   "id": "156db208",
   "metadata": {},
   "source": [
    "### Step 2: Data Processing (1.5 marks)"
   ]
  },
  {
   "cell_type": "markdown",
   "id": "a28af110",
   "metadata": {},
   "source": [
    "Print the first five rows of the dataset to inspect:"
   ]
  },
  {
   "cell_type": "code",
   "execution_count": 81,
   "id": "ea266921",
   "metadata": {
    "tags": []
   },
   "outputs": [
    {
     "data": {
      "text/html": [
       "<div>\n",
       "<style scoped>\n",
       "    .dataframe tbody tr th:only-of-type {\n",
       "        vertical-align: middle;\n",
       "    }\n",
       "\n",
       "    .dataframe tbody tr th {\n",
       "        vertical-align: top;\n",
       "    }\n",
       "\n",
       "    .dataframe thead th {\n",
       "        text-align: right;\n",
       "    }\n",
       "</style>\n",
       "<table border=\"1\" class=\"dataframe\">\n",
       "  <thead>\n",
       "    <tr style=\"text-align: right;\">\n",
       "      <th></th>\n",
       "      <th>class</th>\n",
       "      <th>Alcohol</th>\n",
       "      <th>Malic acid</th>\n",
       "      <th>Ash</th>\n",
       "      <th>Alcalinity of ash</th>\n",
       "      <th>Magnesium</th>\n",
       "      <th>Total phenols</th>\n",
       "      <th>Flavanoids</th>\n",
       "      <th>Nonflavanoid phenols</th>\n",
       "      <th>Proanthocyanins</th>\n",
       "      <th>Colour intensity</th>\n",
       "      <th>Hue</th>\n",
       "      <th>OD280/OD315 of diluted wines</th>\n",
       "      <th>Proline</th>\n",
       "    </tr>\n",
       "  </thead>\n",
       "  <tbody>\n",
       "    <tr>\n",
       "      <th>0</th>\n",
       "      <td>1</td>\n",
       "      <td>14.23</td>\n",
       "      <td>1.71</td>\n",
       "      <td>2.43</td>\n",
       "      <td>15.6</td>\n",
       "      <td>127</td>\n",
       "      <td>2.80</td>\n",
       "      <td>3.06</td>\n",
       "      <td>0.28</td>\n",
       "      <td>2.29</td>\n",
       "      <td>5.64</td>\n",
       "      <td>1.04</td>\n",
       "      <td>3.92</td>\n",
       "      <td>1065</td>\n",
       "    </tr>\n",
       "    <tr>\n",
       "      <th>1</th>\n",
       "      <td>1</td>\n",
       "      <td>13.20</td>\n",
       "      <td>1.78</td>\n",
       "      <td>2.14</td>\n",
       "      <td>11.2</td>\n",
       "      <td>100</td>\n",
       "      <td>2.65</td>\n",
       "      <td>2.76</td>\n",
       "      <td>0.26</td>\n",
       "      <td>1.28</td>\n",
       "      <td>4.38</td>\n",
       "      <td>1.05</td>\n",
       "      <td>3.40</td>\n",
       "      <td>1050</td>\n",
       "    </tr>\n",
       "    <tr>\n",
       "      <th>2</th>\n",
       "      <td>1</td>\n",
       "      <td>13.16</td>\n",
       "      <td>2.36</td>\n",
       "      <td>2.67</td>\n",
       "      <td>18.6</td>\n",
       "      <td>101</td>\n",
       "      <td>2.80</td>\n",
       "      <td>3.24</td>\n",
       "      <td>0.30</td>\n",
       "      <td>2.81</td>\n",
       "      <td>5.68</td>\n",
       "      <td>1.03</td>\n",
       "      <td>3.17</td>\n",
       "      <td>1185</td>\n",
       "    </tr>\n",
       "    <tr>\n",
       "      <th>3</th>\n",
       "      <td>1</td>\n",
       "      <td>14.37</td>\n",
       "      <td>1.95</td>\n",
       "      <td>2.50</td>\n",
       "      <td>16.8</td>\n",
       "      <td>113</td>\n",
       "      <td>3.85</td>\n",
       "      <td>3.49</td>\n",
       "      <td>0.24</td>\n",
       "      <td>2.18</td>\n",
       "      <td>7.80</td>\n",
       "      <td>0.86</td>\n",
       "      <td>3.45</td>\n",
       "      <td>1480</td>\n",
       "    </tr>\n",
       "    <tr>\n",
       "      <th>4</th>\n",
       "      <td>1</td>\n",
       "      <td>13.24</td>\n",
       "      <td>2.59</td>\n",
       "      <td>2.87</td>\n",
       "      <td>21.0</td>\n",
       "      <td>118</td>\n",
       "      <td>2.80</td>\n",
       "      <td>2.69</td>\n",
       "      <td>0.39</td>\n",
       "      <td>1.82</td>\n",
       "      <td>4.32</td>\n",
       "      <td>1.04</td>\n",
       "      <td>2.93</td>\n",
       "      <td>735</td>\n",
       "    </tr>\n",
       "  </tbody>\n",
       "</table>\n",
       "</div>"
      ],
      "text/plain": [
       "   class  Alcohol  Malic acid   Ash  Alcalinity of ash  Magnesium  \\\n",
       "0      1    14.23        1.71  2.43               15.6        127   \n",
       "1      1    13.20        1.78  2.14               11.2        100   \n",
       "2      1    13.16        2.36  2.67               18.6        101   \n",
       "3      1    14.37        1.95  2.50               16.8        113   \n",
       "4      1    13.24        2.59  2.87               21.0        118   \n",
       "\n",
       "   Total phenols  Flavanoids  Nonflavanoid phenols  Proanthocyanins  \\\n",
       "0           2.80        3.06                  0.28             2.29   \n",
       "1           2.65        2.76                  0.26             1.28   \n",
       "2           2.80        3.24                  0.30             2.81   \n",
       "3           3.85        3.49                  0.24             2.18   \n",
       "4           2.80        2.69                  0.39             1.82   \n",
       "\n",
       "   Colour intensity   Hue  OD280/OD315 of diluted wines  Proline   \n",
       "0              5.64  1.04                          3.92      1065  \n",
       "1              4.38  1.05                          3.40      1050  \n",
       "2              5.68  1.03                          3.17      1185  \n",
       "3              7.80  0.86                          3.45      1480  \n",
       "4              4.32  1.04                          2.93       735  "
      ]
     },
     "execution_count": 81,
     "metadata": {},
     "output_type": "execute_result"
    }
   ],
   "source": [
    "wine_data.head() # I am assuming the whole dataset here "
   ]
  },
  {
   "cell_type": "markdown",
   "id": "834fc8fe",
   "metadata": {},
   "source": [
    "Check to see if there are any missing values in the dataset. If necessary, select an appropriate method to fill-in the missing values"
   ]
  },
  {
   "cell_type": "code",
   "execution_count": 52,
   "id": "97c6e9dc",
   "metadata": {
    "tags": []
   },
   "outputs": [
    {
     "data": {
      "text/plain": [
       "class                           0\n",
       "Alcohol                         0\n",
       "Malic acid                      0\n",
       "Ash                             0\n",
       "Alcalinity of ash               0\n",
       "Magnesium                       0\n",
       "Total phenols                   0\n",
       "Flavanoids                      0\n",
       "Nonflavanoid phenols            0\n",
       "Proanthocyanins                 0\n",
       "Colour intensity                0\n",
       "Hue                             0\n",
       "OD280/OD315 of diluted wines    0\n",
       "Proline                         0\n",
       "dtype: int64"
      ]
     },
     "execution_count": 52,
     "metadata": {},
     "output_type": "execute_result"
    }
   ],
   "source": [
    "wine_data.isnull().sum() # no missing values from dataset "
   ]
  },
  {
   "cell_type": "markdown",
   "id": "070956af",
   "metadata": {},
   "source": [
    "How many samples do we have of each type of wine?"
   ]
  },
  {
   "cell_type": "code",
   "execution_count": 82,
   "id": "b37a6fd9",
   "metadata": {
    "tags": []
   },
   "outputs": [
    {
     "name": "stdout",
     "output_type": "stream",
     "text": [
      "(178, 14)\n"
     ]
    }
   ],
   "source": [
    "count = wine_data[\"class\"].unique().size  # unique classes \n",
    "print(wine_data.shape) # 178 samples of wine "
   ]
  },
  {
   "cell_type": "markdown",
   "id": "70e6c46f",
   "metadata": {},
   "source": [
    "### Step 3: Implement Machine Learning Model\n",
    "\n",
    "1. Import `SVC` and `DecisionTreeClassifier` from sklearn\n",
    "2. Instantiate models as `SVC()` and `DecisionTreeClassifier(max_depth = 3)`\n",
    "3. Implement the machine learning model with `X` and `y`"
   ]
  },
  {
   "cell_type": "markdown",
   "id": "0870b0d2",
   "metadata": {},
   "source": [
    "### Step 4: Validate Model \n",
    "\n",
    "Calculate the average training and validation accuracy using `cross_validate` for the two different models listed in Step 3. For this case, use `scoring='accuracy'`"
   ]
  },
  {
   "cell_type": "markdown",
   "id": "bb0bbd83",
   "metadata": {},
   "source": [
    "### Step 5: Visualize Results (4 marks)\n",
    "\n",
    "#### Step 5.1: Compare Models\n",
    "1. Create a pandas DataFrame `results` with columns: Training accuracy and Validation accuracy\n",
    "2. Add the data size, training and validation accuracy for each dataset to the `results` DataFrame\n",
    "3. Print `results`"
   ]
  },
  {
   "cell_type": "code",
   "execution_count": 90,
   "id": "be4b5c0a",
   "metadata": {
    "tags": []
   },
   "outputs": [],
   "source": [
    "# TO DO: ADD YOUR CODE HERE FOR STEPS 3-5\n",
    "# Note: for any random state parameters, you can use random_state = 0\n",
    "# HINT: USING A LOOP TO STORE THE DATA IN YOUR RESULTS DATAFRAME WILL BE MORE EFFICIENT\n",
    "\n",
    "from sklearn.model_selection import train_test_split\n",
    "from sklearn.tree import DecisionTreeClassifier\n",
    "\n",
    "X_train_wine, X_val_wine, y_train_wine, y_val_wine = train_test_split(X_wine, y_wine, random_state=0)\n",
    "\n",
    "# ----------------- Decision Tree ------------------------\n",
    "wine_tree = DecisionTreeClassifier(max_depth=3, random_state=0)\n",
    "wine_tree.fit(X_train_wine, y_train_wine)\n",
    "\n",
    "wine_tree_cross_score = cross_validate(wine_tree, X_train_wine, y_train_wine, scoring='accuracy') #, return_train_score=True) \n"
   ]
  },
  {
   "cell_type": "code",
   "execution_count": null,
   "id": "a194d590-70e2-4c36-b8c8-17b5236c9149",
   "metadata": {},
   "outputs": [],
   "source": [
    "# ----------------- SVC ------------------------\n",
    "from sklearn.svm import SVC\n",
    "svc = SVC()\n",
    "wine_svc = svc.fit(X_train_wine, y_train_wine)"
   ]
  },
  {
   "cell_type": "code",
   "execution_count": 96,
   "id": "f462e85e-ffea-4f73-b4d8-3de209296eb4",
   "metadata": {
    "tags": []
   },
   "outputs": [
    {
     "name": "stdout",
     "output_type": "stream",
     "text": [
      "    Training Accuracy Validation Accuracy\n",
      "DT           0.994357            0.894017\n",
      "SVC          0.680427            0.676638\n"
     ]
    }
   ],
   "source": [
    "# ----------------- Results -------------------\n",
    "models_list = (wine_tree, wine_svc)\n",
    "results = pd.DataFrame(columns=[\"Training Accuracy\", \"Validation Accuracy\"], index=['DT', 'SVC'])\n",
    "i = 0\n",
    "\n",
    "for model in models_list: \n",
    "    cross_score = cross_validate(model, X_train_wine, y_train_wine, scoring='accuracy', return_train_score=True) \n",
    "    results.iloc[i] = [cross_score['train_score'].mean(), cross_score['test_score'].mean()]\n",
    "    i+=1 \n",
    "\n",
    "print(results)"
   ]
  },
  {
   "cell_type": "markdown",
   "id": "f2e17878",
   "metadata": {},
   "source": [
    "#### Step 5.2: Visualize Classification Errors\n",
    "Which method gave the highest accuracy? Use this method to print the confusion matrix and classification report:"
   ]
  },
  {
   "cell_type": "code",
   "execution_count": null,
   "id": "44b091a4",
   "metadata": {},
   "outputs": [],
   "source": [
    "# TO DO: Implement best model"
   ]
  },
  {
   "cell_type": "code",
   "execution_count": 111,
   "id": "09d21b59",
   "metadata": {
    "tags": []
   },
   "outputs": [
    {
     "data": {
      "image/png": "[encoded data removed]",
      "text/plain": [
       "<Figure size 800x550 with 2 Axes>"
      ]
     },
     "metadata": {},
     "output_type": "display_data"
    }
   ],
   "source": [
    "# TO DO: Print confusion matrix using a heatmap\n",
    "from sklearn.metrics import ConfusionMatrixDisplay\n",
    "\n",
    "ConfusionMatrixDisplay.from_predictions(y_val_wine, \n",
    "                                        wine_svc.predict(X_val_wine), \n",
    "                                        display_labels=['1', '2', '3'],\n",
    "                                        cmap='rocket',\n",
    "                                        colorbar=True);"
   ]
  },
  {
   "cell_type": "code",
   "execution_count": 110,
   "id": "cadb0298-11fd-49d2-b406-6d995b4272da",
   "metadata": {
    "tags": []
   },
   "outputs": [
    {
     "data": {
      "image/png": "[encoded data removed]",
      "text/plain": [
       "<Figure size 800x550 with 2 Axes>"
      ]
     },
     "metadata": {},
     "output_type": "display_data"
    }
   ],
   "source": [
    "ConfusionMatrixDisplay.from_predictions(y_val_wine, \n",
    "                                        wine_tree.predict(X_val_wine), \n",
    "                                        display_labels=['1', '2', '3'],\n",
    "                                        cmap='rocket',\n",
    "                                        colorbar=True);"
   ]
  },
  {
   "cell_type": "code",
   "execution_count": 105,
   "id": "5ef95947",
   "metadata": {
    "tags": []
   },
   "outputs": [
    {
     "name": "stdout",
     "output_type": "stream",
     "text": [
      "              precision    recall  f1-score   support\n",
      "\n",
      "           1       1.00      0.94      0.97        16\n",
      "           2       0.85      0.81      0.83        21\n",
      "           3       0.50      0.62      0.56         8\n",
      "\n",
      "    accuracy                           0.82        45\n",
      "   macro avg       0.78      0.79      0.78        45\n",
      "weighted avg       0.84      0.82      0.83        45\n",
      "\n"
     ]
    }
   ],
   "source": [
    "# TO DO: Print classification report\n",
    "from sklearn.metrics import classification_report\n",
    "print(classification_report(y_val_wine, wine_svc.predict(X_val_wine))) # SVC model"
   ]
  },
  {
   "cell_type": "code",
   "execution_count": 106,
   "id": "a4f20ddb-87bb-46b5-9c72-adb1d2bfb427",
   "metadata": {
    "tags": []
   },
   "outputs": [
    {
     "name": "stdout",
     "output_type": "stream",
     "text": [
      "              precision    recall  f1-score   support\n",
      "\n",
      "           1       1.00      0.88      0.93        16\n",
      "           2       0.91      0.95      0.93        21\n",
      "           3       0.89      1.00      0.94         8\n",
      "\n",
      "    accuracy                           0.93        45\n",
      "   macro avg       0.93      0.94      0.93        45\n",
      "weighted avg       0.94      0.93      0.93        45\n",
      "\n"
     ]
    }
   ],
   "source": [
    "print(classification_report(y_val_wine, wine_tree.predict(X_val_wine))) # tree model "
   ]
  },
  {
   "cell_type": "markdown",
   "id": "bf319621",
   "metadata": {},
   "source": [
    "### Questions (6 marks)\n",
    "1. How do the training and validation accuracy change depending on the method used? Explain with values.\n",
    "1. What are two reasons why the support vector machines model did not work as well as the tree-based model?\n",
    "1. How many samples were incorrectly classified in step 5.2? \n",
    "1. In this case, is maximizing precision or recall more important? Why?\n",
    "\n",
    "*YOUR ANSWERS HERE*"
   ]
  },
  {
   "cell_type": "raw",
   "id": "11f0c40b-ceca-4434-9c4d-1ea0658c6722",
   "metadata": {},
   "source": [
    "1. Training and validation for the decision tree model sit at 99% and 89% respectively and the svc model sits at approximately 68% for both the training and validation score. The decision tree performs a lot better than the svc model for this smaller dataset. The decision tree could be overfitting with the high training score and small dataset but the 89% for the validation score is still very good.\n",
    "\n",
    "2. SVM models work well for data is not linearly separable and this dataset may be linearly separable. We also did no pre-processing steps before implementing the svc model which also may explain why it did not perform as well as the decision tree. \n",
    "\n",
    "3. The SVC model incorrectly classified 8 samples and the decision tree incorrectly classified 3 samples.\n",
    "\n",
    "4. Precision = (True Positives) / (True Positives + False Positives) --> likeliness to be correct in detecting positive instances\n",
    "Recall = (True Positives) / (True Positives + False Negatives) --> capturing positive instances\n",
    "Decision Tree: Precision = 0.89, Recall = 1 \n",
    "SVC: Precision = 0.5, Recall = 0.62\n",
    "I think maximizing the precision is more important here. The decision tree happens to have a recall of 1.00 so its pretty perfect, but both the values for the SVC model get worse with each step (1-3) and with a precision of 0.50 is not great so I think that its more important because its significantly lower than the recall score of 0.62. This also shows that the SVC model is not appropriate for the dataset. "
   ]
  },
  {
   "cell_type": "markdown",
   "id": "664ff8ae",
   "metadata": {},
   "source": [
    "### Process Description (4 marks)\n",
    "Please describe the process you used to create your code. Cite any websites or generative AI tools used. You can use the following questions as guidance:\n",
    "1. Where did you source your code?\n",
    "1. In what order did you complete the steps?\n",
    "1. If you used generative AI, what prompts did you use? Did you need to modify the code at all? Why or why not?\n",
    "1. Did you have any challenges? If yes, what were they? If not, what helped you to be successful?"
   ]
  },
  {
   "cell_type": "raw",
   "id": "4878722f-6fbe-45c9-9f6f-116fc3dd94dc",
   "metadata": {},
   "source": [
    "I completed the tasks in order and I got my code from the previous examples/labs. I asked chatGPT to give me a brief explanation on what SVM models were and what the definitions of precision and recall are, but not for code. Nothing overly challenging with the dataset and tasks, it was generally straight forward but again, sometimes actually interpretting the results is difficult. "
   ]
  },
  {
   "cell_type": "markdown",
   "id": "4cd7358d",
   "metadata": {},
   "source": [
    "## Part 3: Observations/Interpretation (3 marks)\n",
    "\n",
    "Describe any pattern you see in the results. Relate your findings to what we discussed during lectures. Include data to justify your findings.\n",
    "\n",
    "\n",
    "*ADD YOUR FINDINGS HERE*"
   ]
  },
  {
   "cell_type": "raw",
   "id": "bd3b0aed-c1be-462a-a5f4-1532ffbeb182",
   "metadata": {},
   "source": [
    "Regression (Part I)\n",
    "With the regression models from the first part, its pretty clear how as the non-linear model got more complex, the training and validation scores, and mse got better. From the decision tree (mse of 73 and r2 of 74% on validation data) to the gradient boosted model (mse of 23 and validation accuracy of 92%), it was pretty clear to be able to evaluate each model and compare each models performance with these values because they are siginificantly different from each other, and it didn't seem as if any of the models were overfitting (maybe gradient boosting) but definitely the decision tree was underfitting. It is very clear that the dataset works well with non-linear models. \n",
    "\n",
    "Classification (Part II)\n",
    "The performance of the decision tree and SVM models for the classification section were also very different. Again the svc model wasn't that bad, but with precision and recall scores of 0.5 and 0.61 on the 3 depth, but on the first was 1.0 and 0.94 respectively and accuracy of 82% indicates how the SVC model (68% accuracy) was not suited for this dataset at all, it performs well on either few features or many features in data and I guess wine has linear-related features all around. The decision tree with 0.89 precision and 1 for recall, and an accuracy of 89% and we only went a depth of 3 with a very good performance for the model. The decision tree was likely senstiive to the dataset characteristics.     "
   ]
  },
  {
   "cell_type": "markdown",
   "id": "cd97b6ac",
   "metadata": {},
   "source": [
    "## Part 4: Reflection (2 marks)\n",
    "Include a sentence or two about:\n",
    "- what you liked or disliked,\n",
    "- found interesting, confusing, challangeing, motivating\n",
    "while working on this assignment.\n",
    "\n",
    "\n",
    "*ADD YOUR THOUGHTS HERE*"
   ]
  },
  {
   "cell_type": "raw",
   "id": "cbc7f575-5866-4da9-b78d-81c9c1003ac4",
   "metadata": {},
   "source": [
    "I like practicing the different models and working with them myself because they seem very abstract in lectures, but actually working on them personally helps me understand what is going on. The interpretation part I find honestly a bit difficult and takes some time to actually understand what the results mean and compare the models, but reading back through lecture notes and past examples helps with that. "
   ]
  },
  {
   "cell_type": "markdown",
   "id": "fa21e53b",
   "metadata": {},
   "source": [
    "## Part 5: Bonus Question (3 marks)\n",
    "\n",
    "Repeat Part 2 and compare the support vector machines model used to `LinearSVC(max_iter=5000)`. Does using `LinearSVC` improve the results? Why or why not?\n",
    "\n",
    "Is `LinearSVC` a good fit for this dataset? Why or why not?"
   ]
  },
  {
   "cell_type": "code",
   "execution_count": 133,
   "id": "30fea72e",
   "metadata": {
    "tags": []
   },
   "outputs": [
    {
     "name": "stdout",
     "output_type": "stream",
     "text": [
      "Training accuracy is 0.99247 and the validation accuracy is 0.97749 for the linear SVM.\n"
     ]
    },
    {
     "data": {
      "image/png": "[encoded data removed]",
      "text/plain": [
       "<Figure size 800x550 with 2 Axes>"
      ]
     },
     "metadata": {},
     "output_type": "display_data"
    }
   ],
   "source": [
    "# --------------------- Linear SVM ---------------------------\n",
    "from sklearn.svm import LinearSVC\n",
    "\n",
    "linear_svm = LinearSVC(max_iter=5000, dual=False)\n",
    "linear_svm.fit(X_train_wine, y_train_wine)\n",
    "\n",
    "cross_score = cross_validate(linear_svm, X_train_wine, y_train_wine, scoring='accuracy', return_train_score=True) \n",
    "print(\"Training accuracy is {:.5f} and the validation accuracy is {:.5f} for the linear SVM.\".format(cross_score['train_score'].mean(), \n",
    "                                                                                              cross_score['test_score'].mean()))\n",
    "\n",
    "ConfusionMatrixDisplay.from_predictions(y_val_wine, \n",
    "                                        linear_svm.predict(X_val_wine), \n",
    "                                        display_labels=['1', '2', '3'],\n",
    "                                        cmap='rocket',\n",
    "                                        colorbar=True);"
   ]
  },
  {
   "cell_type": "code",
   "execution_count": 130,
   "id": "2655c782-9437-457f-b637-d58783860abe",
   "metadata": {
    "tags": []
   },
   "outputs": [
    {
     "name": "stdout",
     "output_type": "stream",
     "text": [
      "              precision    recall  f1-score   support\n",
      "\n",
      "           1       0.88      0.94      0.91        16\n",
      "           2       0.95      0.86      0.90        21\n",
      "           3       0.89      1.00      0.94         8\n",
      "\n",
      "    accuracy                           0.91        45\n",
      "   macro avg       0.91      0.93      0.92        45\n",
      "weighted avg       0.91      0.91      0.91        45\n",
      "\n"
     ]
    }
   ],
   "source": [
    "print(classification_report(y_val_wine, linear_svm.predict(X_val_wine))) # linear SVC model"
   ]
  },
  {
   "cell_type": "raw",
   "id": "d661a478-b1f9-4c8b-903d-fe0ec13353f2",
   "metadata": {},
   "source": [
    "The linear svm model performs a lot better that the original svc model and its clear that the wine dataset has linear characteristics, and is a good model fit for the dataset. The accuracy on the training and accuracy are 99% and 98% respectively, and the precision of 0.89 and recall of 1.0 is better than the decision tree model and the svm model. We may be overfitting the data with the 99% training accuracy but overall, the numbers are a lot better than with the original svc model at approximately 68% training and valiation accuracy. "
   ]
  }
 ],
 "metadata": {
  "kernelspec": {
   "display_name": "Python 3 (ipykernel)",
   "language": "python",
   "name": "python3"
  },
  "language_info": {
   "codemirror_mode": {
    "name": "ipython",
    "version": 3
   },
   "file_extension": ".py",
   "mimetype": "text/x-python",
   "name": "python",
   "nbconvert_exporter": "python",
   "pygments_lexer": "ipython3",
   "version": "3.11.5"
  }
 },
 "nbformat": 4,
 "nbformat_minor": 5
}
