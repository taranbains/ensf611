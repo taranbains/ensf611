{
 "cells": [
  {
   "cell_type": "markdown",
   "id": "92778525",
   "metadata": {},
   "source": [
    "# Assignment 2: Linear Models and Validation Metrics (30 marks total)\n",
    "### Due: October 10 at 11:59pm\n",
    "\n",
    "### Name: "
   ]
  },
  {
   "cell_type": "markdown",
   "id": "ce31b39a",
   "metadata": {},
   "source": [
    "### In this assignment, you will need to write code that uses linear models to perform classification and regression tasks. You will also be asked to describe the process by which you came up with the code. More details can be found below. Please cite any websites or AI tools that you used to help you with this assignment."
   ]
  },
  {
   "cell_type": "markdown",
   "id": "f7c6de86",
   "metadata": {},
   "source": [
    "## Part 1: Classification (14.5 marks total)\n",
    "\n",
    "You have been asked to develop code that can help the user determine if the email they have received is spam or not. Following the machine learning workflow described in class, write the relevant code in each of the steps below:"
   ]
  },
  {
   "cell_type": "markdown",
   "id": "7e3c6fc8",
   "metadata": {},
   "source": [
    "### Step 0: Import Libraries"
   ]
  },
  {
   "cell_type": "code",
   "execution_count": 3,
   "id": "33f86925",
   "metadata": {},
   "outputs": [],
   "source": [
    "import numpy as np\n",
    "import pandas as pd\n",
    "import matplotlib.pyplot as plt\n",
    "import seaborn as sns"
   ]
  },
  {
   "cell_type": "markdown",
   "id": "5f9d33a8",
   "metadata": {},
   "source": [
    "### Step 1: Data Input (1 mark)\n",
    "\n",
    "The data used for this task can be downloaded using the yellowbrick library: \n",
    "https://www.scikit-yb.org/en/latest/api/datasets/spam.html\n",
    "\n",
    "Use the yellowbrick function `load_spam()` to load the spam dataset into the feature matrix `X` and target vector `y`.\n",
    "\n",
    "Print the size and type of `X` and `y`."
   ]
  },
  {
   "cell_type": "code",
   "execution_count": 25,
   "id": "33583c67",
   "metadata": {},
   "outputs": [
    {
     "name": "stdout",
     "output_type": "stream",
     "text": [
      "The size of X is (4600, 57) and the type is <class 'pandas.core.frame.DataFrame'> for the spam dataset.\n",
      "The size of y is (4600,) and the type is <class 'pandas.core.series.Series'> for the spam dataset.\n"
     ]
    }
   ],
   "source": [
    "# TO DO: Import spam dataset from yellowbrick library\n",
    "from yellowbrick.datasets import load_spam\n",
    "X, y = load_spam()\n",
    "\n",
    "# TO DO: Print size and type of X and y\n",
    "print(\"The size of X is {0} and the type is {1} for the spam dataset.\".format(X.shape, type(X)))\n",
    "print(\"The size of y is {0} and the type is {1} for the spam dataset.\".format(y.shape, type(y)))"
   ]
  },
  {
   "cell_type": "markdown",
   "id": "156db208",
   "metadata": {},
   "source": [
    "### Step 2: Data Processing (1.5 marks)\n",
    "\n",
    "Check to see if there are any missing values in the dataset. If necessary, select an appropriate method to fill-in the missing values."
   ]
  },
  {
   "cell_type": "code",
   "execution_count": 26,
   "id": "4e7204f5",
   "metadata": {},
   "outputs": [
    {
     "name": "stdout",
     "output_type": "stream",
     "text": [
      "word_freq_make                0\n",
      "word_freq_address             0\n",
      "word_freq_all                 0\n",
      "word_freq_3d                  0\n",
      "word_freq_our                 0\n",
      "word_freq_over                0\n",
      "word_freq_remove              0\n",
      "word_freq_internet            0\n",
      "word_freq_order               0\n",
      "word_freq_mail                0\n",
      "word_freq_receive             0\n",
      "word_freq_will                0\n",
      "word_freq_people              0\n",
      "word_freq_report              0\n",
      "word_freq_addresses           0\n",
      "word_freq_free                0\n",
      "word_freq_business            0\n",
      "word_freq_email               0\n",
      "word_freq_you                 0\n",
      "word_freq_credit              0\n",
      "word_freq_your                0\n",
      "word_freq_font                0\n",
      "word_freq_000                 0\n",
      "word_freq_money               0\n",
      "word_freq_hp                  0\n",
      "word_freq_hpl                 0\n",
      "word_freq_george              0\n",
      "word_freq_650                 0\n",
      "word_freq_lab                 0\n",
      "word_freq_labs                0\n",
      "word_freq_telnet              0\n",
      "word_freq_857                 0\n",
      "word_freq_data                0\n",
      "word_freq_415                 0\n",
      "word_freq_85                  0\n",
      "word_freq_technology          0\n",
      "word_freq_1999                0\n",
      "word_freq_parts               0\n",
      "word_freq_pm                  0\n",
      "word_freq_direct              0\n",
      "word_freq_cs                  0\n",
      "word_freq_meeting             0\n",
      "word_freq_original            0\n",
      "word_freq_project             0\n",
      "word_freq_re                  0\n",
      "word_freq_edu                 0\n",
      "word_freq_table               0\n",
      "word_freq_conference          0\n",
      "char_freq_;                   0\n",
      "char_freq_(                   0\n",
      "char_freq_[                   0\n",
      "char_freq_!                   0\n",
      "char_freq_$                   0\n",
      "char_freq_#                   0\n",
      "capital_run_length_average    0\n",
      "capital_run_length_longest    0\n",
      "capital_run_length_total      0\n",
      "dtype: int64\n",
      "There are 0 values missing in the y type dataset.\n"
     ]
    }
   ],
   "source": [
    "# TO DO: Check if there are any missing values and fill them in if necessary\n",
    "print(X.isnull().sum())\n",
    "print(\"There are {0} values missing in the y type dataset.\".format(y.isnull().sum()))"
   ]
  },
  {
   "cell_type": "markdown",
   "id": "a489285a",
   "metadata": {},
   "source": [
    "For this task, we want to test if the linear model would still work if we used less data. Use the `train_test_split` function from sklearn to create a new feature matrix named `X_small` and a new target vector named `y_small` that contain **5%** of the data."
   ]
  },
  {
   "cell_type": "code",
   "execution_count": 28,
   "id": "f9bc4a23",
   "metadata": {},
   "outputs": [
    {
     "data": {
      "text/plain": [
       "(184, 57)"
      ]
     },
     "execution_count": 28,
     "metadata": {},
     "output_type": "execute_result"
    }
   ],
   "source": [
    "# TO DO: Create X_small and y_small \n",
    "# I understand this part of the assignment to be taking 5% of the dataset and splitting that into an 80-20 split. \n",
    "from sklearn.model_selection import train_test_split\n",
    "\n",
    "X_small, _, y_small, _ = train_test_split(X, y, train_size=0.05, random_state=42)\n",
    "X_small, X_smalltest, y_small, y_smalltest = train_test_split(X_small, y_small, test_size=0.2, random_state=42)\n",
    "\n",
    "X_small.shape"
   ]
  },
  {
   "cell_type": "markdown",
   "id": "70e6c46f",
   "metadata": {},
   "source": [
    "### Step 3: Implement Machine Learning Model\n",
    "\n",
    "1. Import `LogisticRegression` from sklearn\n",
    "2. Instantiate model `LogisticRegression(max_iter=2000)`.\n",
    "3. Implement the machine learning model with three different datasets: \n",
    "    - `X` and `y`\n",
    "    - Only first two columns of `X` and `y`\n",
    "    - `X_small` and `y_small`"
   ]
  },
  {
   "cell_type": "markdown",
   "id": "b89f3d84",
   "metadata": {},
   "source": [
    "### Step 4: Validate Model\n",
    "\n",
    "Calculate the training and validation accuracy for the three different tests implemented in Step 3"
   ]
  },
  {
   "cell_type": "markdown",
   "id": "352106a3",
   "metadata": {},
   "source": [
    "### Step 5: Visualize Results (4 marks)\n",
    "\n",
    "1. Create a pandas DataFrame `results` with columns: Data size, training accuracy, validation accuracy\n",
    "2. Add the data size, training and validation accuracy for each dataset to the `results` DataFrame\n",
    "3. Print `results`"
   ]
  },
  {
   "cell_type": "code",
   "execution_count": 20,
   "id": "be4b5c0a",
   "metadata": {},
   "outputs": [
    {
     "data": {
      "text/html": [
       "<div>\n",
       "<style scoped>\n",
       "    .dataframe tbody tr th:only-of-type {\n",
       "        vertical-align: middle;\n",
       "    }\n",
       "\n",
       "    .dataframe tbody tr th {\n",
       "        vertical-align: top;\n",
       "    }\n",
       "\n",
       "    .dataframe thead th {\n",
       "        text-align: right;\n",
       "    }\n",
       "</style>\n",
       "<table border=\"1\" class=\"dataframe\">\n",
       "  <thead>\n",
       "    <tr style=\"text-align: right;\">\n",
       "      <th></th>\n",
       "      <th>Data Size</th>\n",
       "      <th>Training Accuracy</th>\n",
       "      <th>Validation Accuracy</th>\n",
       "    </tr>\n",
       "  </thead>\n",
       "  <tbody>\n",
       "    <tr>\n",
       "      <th>0</th>\n",
       "      <td>(3680, 57)</td>\n",
       "      <td>0.934239</td>\n",
       "      <td>0.908696</td>\n",
       "    </tr>\n",
       "    <tr>\n",
       "      <th>1</th>\n",
       "      <td>(3680, 2)</td>\n",
       "      <td>0.620109</td>\n",
       "      <td>0.589130</td>\n",
       "    </tr>\n",
       "    <tr>\n",
       "      <th>2</th>\n",
       "      <td>(184, 57)</td>\n",
       "      <td>0.961957</td>\n",
       "      <td>0.891304</td>\n",
       "    </tr>\n",
       "  </tbody>\n",
       "</table>\n",
       "</div>"
      ],
      "text/plain": [
       "    Data Size  Training Accuracy  Validation Accuracy\n",
       "0  (3680, 57)           0.934239             0.908696\n",
       "1   (3680, 2)           0.620109             0.589130\n",
       "2   (184, 57)           0.961957             0.891304"
      ]
     },
     "execution_count": 20,
     "metadata": {},
     "output_type": "execute_result"
    }
   ],
   "source": [
    "# TO DO: ADD YOUR CODE HERE FOR STEPS 3-5\n",
    "# Note: for any random state parameters, you can use random_state = 0\n",
    "# HINT: USING A LOOP TO STORE THE DATA IN YOUR RESULTS DATAFRAME WILL BE MORE EFFICIENT\n",
    "\n",
    "from sklearn.linear_model import LogisticRegression\n",
    "\n",
    "# ALL THE DATA, with an 80-20 train-test split \n",
    "X_train, X_test, y_train, y_test = train_test_split(X, y, test_size=0.2, random_state=42)\n",
    "\n",
    "model_all = LogisticRegression(max_iter=2000)\n",
    "model_all.fit(X_train, y_train)\n",
    "\n",
    "# training (training set) and validation (testing set)\n",
    "# .score calculates the r2 values \n",
    "train_all_score = model_all.score(X_train, y_train)\n",
    "valid_all_score = model_all.score(X_test, y_test)\n",
    "# print(\"Training set score: {:.3f}\".format(model_all.score(X_train, y_train)))\n",
    "# print(\"Validation set score: {:.3f}\".format(model_all.score(X_test, y_test)))\n",
    "\n",
    "\n",
    "# FIRST 2 COLUMNS, also with an 80-20 train-test split \n",
    "X_subset = X.iloc[:, :2]\n",
    "X_subtrain, X_subtest, y_subtrain, y_subtest = train_test_split(X_subset, y, test_size=0.2, random_state=42)\n",
    "\n",
    "model_cols = LogisticRegression(max_iter=2000)\n",
    "model_cols.fit(X_subtrain, y_subtrain)\n",
    "\n",
    "train_2cols_score = model_cols.score(X_subtrain, y_subtrain)\n",
    "valid_2cols_score = model_cols.score(X_subtest, y_subtest)\n",
    "# print(\"Training set score: {:.3f}\".format(model_cols.score(X_subtrain, y_subtrain)))\n",
    "# print(\"Validation set score: {:.3f}\".format(model_cols.score(X_subtest, y_subtest)))\n",
    "\n",
    "\n",
    "# 5% SUBSET OF DATA  \n",
    "model_small = LogisticRegression(max_iter=2000)\n",
    "model_small.fit(X_small, y_small)\n",
    "\n",
    "train_5p_score = model_small.score(X_small, y_small)\n",
    "valid_5p_score = model_small.score(X_smalltest, y_smalltest)\n",
    "# print(\"\\nStats for 5% of the data:\")\n",
    "# print(\"Training set score: {:.3f}\".format(model_small.score(X_smalltrain, y_smalltrain)))\n",
    "# print(\"Validation set score: {:.3f}\".format(model_small.score(X_smalltest, y_smalltest)))\n",
    "\n",
    "## Step 5\n",
    "data = {'Data Size': [X_train.shape, X_subtrain.shape, X_small.shape],\n",
    "            'Training Accuracy': [train_all_score, train_2cols_score, train_5p_score],\n",
    "            'Validation Accuracy': [valid_all_score, valid_2cols_score, valid_5p_score]}\n",
    "results = pd.DataFrame(data)\n",
    "results"
   ]
  },
  {
   "cell_type": "markdown",
   "id": "d4427d4f",
   "metadata": {},
   "source": [
    "### Questions (4 marks)\n",
    "1. How do the training and validation accuracy change depending on the amount of data used? Explain with values.\n",
    "2. In this case, what do a false positive and a false negative represent? Which one is worse?\n",
    "\n",
    "*YOUR ANSWERS HERE*\n",
    "\n",
    "Using the data with only 2 columns (row 1) has a very low training and validation accuracy, at approximately 62% and 60% relatively, which suggests the model here is underfitting and honestly just does not have enough data. Using 5% of the data (row 2) shows a high training accuracy at 96% and a relatively high validation accuracy at 89%, which is similar to the validation accuracy but this may still suggest that the model here is possibly overfitting the data. Using all the data (row 0) has a pretty high training accuracy and validation accuracy at relatively 93% and 91%.    \n",
    "\n",
    "\n",
    "False Positive = ML model saying its spam when it is not. False Negative = ML model saying it is not spam when it is in fact spam. \n",
    "False positive is worse because if after an email is marked at spam and it automatically goes into the spam email, a legit email will be put into a folder that no one looks at."
   ]
  },
  {
   "cell_type": "markdown",
   "id": "7559517a",
   "metadata": {},
   "source": [
    "### Process Description (4 marks)\n",
    "Please describe the process you used to create your code. Cite any websites or generative AI tools used. You can use the following questions as guidance:\n",
    "1. Where did you source your code?\n",
    "1. In what order did you complete the steps?\n",
    "1. If you used generative AI, what prompts did you use? Did you need to modify the code at all? Why or why not?\n",
    "1. Did you have any challenges? If yes, what were they? If not, what helped you to be successful?"
   ]
  },
  {
   "cell_type": "markdown",
   "id": "59fe687f",
   "metadata": {},
   "source": [
    "I used chatGPT to help me with the specific step for using train_test_split for using 5% of the dataset for the small subset. It was telling me to use test_size=0.95 so training was 5% of the data but that was not what I wanted, and I changed it to see if I could do train_size=0.05 and that seemed to work. The other steps I looked at previous in class examples that had been filled out and the rest of the information was in those notebooks, so I took code snippets from there.  "
   ]
  },
  {
   "cell_type": "markdown",
   "id": "fb4c78a8",
   "metadata": {},
   "source": [
    "## Part 2: Regression (10.5 marks total)\n",
    "\n",
    "For this section, we will be evaluating concrete compressive strength of different concrete samples, based on age and ingredients. You will need to repeat the steps 1-4 from Part 1 for this analysis."
   ]
  },
  {
   "cell_type": "markdown",
   "id": "b2ba83c5",
   "metadata": {},
   "source": [
    "### Step 1: Data Input (1 mark)\n",
    "\n",
    "The data used for this task can be downloaded using the yellowbrick library: \n",
    "https://www.scikit-yb.org/en/latest/api/datasets/concrete.html\n",
    "\n",
    "Use the yellowbrick function `load_concrete()` to load the spam dataset into the feature matrix `X` and target vector `y`.\n",
    "\n",
    "Print the size and type of `X` and `y`."
   ]
  },
  {
   "cell_type": "code",
   "execution_count": 103,
   "id": "6ff2e34f",
   "metadata": {},
   "outputs": [
    {
     "name": "stdout",
     "output_type": "stream",
     "text": [
      "The size of X is (1030, 8) and the type is <class 'pandas.core.frame.DataFrame'> for the concrete dataset.\n",
      "The size of y is (1030,) and the type is <class 'pandas.core.series.Series'> for the concrete dataset.\n"
     ]
    }
   ],
   "source": [
    "# TO DO: Import concrete dataset from yellowbrick library\n",
    "from yellowbrick.datasets import load_concrete\n",
    "X, y = load_concrete()\n",
    "\n",
    "# TO DO: Print size and type of X and y\n",
    "print(\"The size of X is {0} and the type is {1} for the concrete dataset.\".format(X.shape, type(X)))\n",
    "print(\"The size of y is {0} and the type is {1} for the concrete dataset.\".format(y.shape, type(y)))"
   ]
  },
  {
   "cell_type": "markdown",
   "id": "c5294cfa",
   "metadata": {},
   "source": [
    "### Step 2: Data Processing (0.5 marks)\n",
    "\n",
    "Check to see if there are any missing values in the dataset. If necessary, select an appropriate method to fill-in the missing values."
   ]
  },
  {
   "cell_type": "code",
   "execution_count": 104,
   "id": "693c5fa3",
   "metadata": {},
   "outputs": [
    {
     "name": "stdout",
     "output_type": "stream",
     "text": [
      "cement    0\n",
      "slag      0\n",
      "ash       0\n",
      "water     0\n",
      "splast    0\n",
      "coarse    0\n",
      "fine      0\n",
      "age       0\n",
      "dtype: int64\n",
      "Data missing from the y dataset is 0.\n"
     ]
    }
   ],
   "source": [
    "# TO DO: Check if there are any missing values and fill them in if necessary\n",
    "print(X.isnull().sum())\n",
    "print(\"Data missing from the y dataset is {0}.\".format(y.isnull().sum()))"
   ]
  },
  {
   "cell_type": "markdown",
   "id": "1bc60489",
   "metadata": {},
   "source": [
    "### Step 3: Implement Machine Learning Model (1 mark)\n",
    "\n",
    "1. Import `LinearRegression` from sklearn\n",
    "2. Instantiate model `LogisticRegression(max_iter=2000)`.\n",
    "3. Implement the machine learning model with `X` and `y`"
   ]
  },
  {
   "cell_type": "code",
   "execution_count": 105,
   "id": "b5041945",
   "metadata": {},
   "outputs": [],
   "source": [
    "# TO DO: ADD YOUR CODE HERE\n",
    "# Note: for any random state parameters, you can use random_state = 0\n",
    "from sklearn.linear_model import LinearRegression\n",
    "\n",
    "# X = set of input variables of features, \n",
    "# y = variable you want to predict, target variable\n",
    "X_train, X_val, y_train, y_val = train_test_split(X, y, test_size=0.2, random_state=0)\n",
    "\n",
    "lr = LinearRegression().fit(X_train, y_train)\n",
    "\n",
    "# add model predictions to then validate the model \n",
    "# want to predict off the linear regression model that was made and use the input variables it hasn't seen before for prediction of the y values\n",
    "y_train_pred = lr.predict(X_train)\n",
    "y_valid_pred = lr.predict(X_val)\n"
   ]
  },
  {
   "cell_type": "markdown",
   "id": "1de28482",
   "metadata": {},
   "source": [
    "### Step 4: Validate Model (1 mark)\n",
    "\n",
    "Calculate the training and validation accuracy using mean squared error and R2 score."
   ]
  },
  {
   "cell_type": "code",
   "execution_count": 106,
   "id": "970c038b",
   "metadata": {},
   "outputs": [
    {
     "name": "stdout",
     "output_type": "stream",
     "text": [
      "Validation Accuracy, Mean Squared Error: 95.635, R2 Error: 0.637\n",
      "Training Accuracy, Mean Squared Error: 110.346, R2 Error: 0.609\n"
     ]
    }
   ],
   "source": [
    "# TO DO: ADD YOUR CODE HERE\n",
    "from sklearn.metrics import mean_squared_error\n",
    "from sklearn.metrics import r2_score\n",
    "\n",
    "# mean squared error (y_true, y_pred)\n",
    "mse_val = mean_squared_error(y_val, y_valid_pred) # validation accuracy \n",
    "mse_train = mean_squared_error(y_train, y_train_pred) # training accuracy \n",
    "\n",
    "# r2 score\n",
    "r2_val = r2_score(y_val, y_valid_pred) # validation accuracy \n",
    "r2_train = r2_score(y_train, y_train_pred) # training accuracy\n",
    "\n",
    "print(\"Validation Accuracy, Mean Squared Error: {:.3f}, R2 Error: {:.3f}\".format(mse_val, r2_val))\n",
    "print(\"Training Accuracy, Mean Squared Error: {:.3f}, R2 Error: {:.3f}\".format(mse_train, r2_train))"
   ]
  },
  {
   "cell_type": "markdown",
   "id": "54aa7795",
   "metadata": {},
   "source": [
    "### Step 5: Visualize Results (1 mark)\n",
    "1. Create a pandas DataFrame `results` with columns: Training accuracy and Validation accuracy, and index: MSE and R2 score\n",
    "2. Add the accuracy results to the `results` DataFrame\n",
    "3. Print `results`"
   ]
  },
  {
   "cell_type": "code",
   "execution_count": 139,
   "id": "88d223f3",
   "metadata": {},
   "outputs": [
    {
     "name": "stdout",
     "output_type": "stream",
     "text": [
      "          MSE        R2\n",
      "0  110.345501  0.609071\n",
      "1   95.635335  0.636898\n"
     ]
    }
   ],
   "source": [
    "# TO DO: ADD YOUR CODE HERE\n",
    "results_data = {\n",
    "    \"MSE\": [mse_train, mse_val],\n",
    "    \"R2\": [r2_train, r2_val]   \n",
    "}\n",
    "results = pd.DataFrame(results_data)\n",
    "print(results)"
   ]
  },
  {
   "cell_type": "markdown",
   "id": "70a42bda",
   "metadata": {},
   "source": [
    "### Questions (2 marks)\n",
    "1. Did using a linear model produce good results for this dataset? Why or why not?\n",
    "\n",
    "Row 0 = training set. Row 1 = validation/testing set\n",
    "\n",
    "R2 represents the models ability to predict unseen samples and is similar to the general 'score'. Mean Squared Error is an error metric, and measures the models accuracy. So the model is not giving better results for the validation sets (row 1) vs the training sets (row 0) which is a bad sign because the score should not be higher on data it has not seen before. The model is not producing good results for the dataset and is likely underfittting. \n"
   ]
  },
  {
   "cell_type": "markdown",
   "id": "2ca0ff2f",
   "metadata": {},
   "source": [
    "### Process Description (4 marks)\n",
    "Please describe the process you used to create your code. Cite any websites or generative AI tools used. You can use the following questions as guidance:\n",
    "1. Where did you source your code?\n",
    "1. In what order did you complete the steps?\n",
    "1. If you used generative AI, what prompts did you use? Did you need to modify the code at all? Why or why not?\n",
    "1. Did you have any challenges? If yes, what were they? If not, what helped you to be successful?"
   ]
  },
  {
   "cell_type": "markdown",
   "id": "dfdb0880",
   "metadata": {},
   "source": [
    "I took code from the Jupyter Notebooks that are done in class, and asked the TA for help in the lab with making the prediction sets because I did not understand what they were and what they were used for. Specifically, this part of the code: y_train_pred = lr.predict(X_train) and y_valid_pred = lr.predict(X_va). I had challenges in understanding the results for the previous part and had to review the slides and previous examples for that. \n",
    "I actually did this section, and then went and did the bonus section because I was initially convinced that the dataset should be giving good results for the linear model and only after testing lasso and ridge and seeing bad results there, did I finally conclude that maybe the data is not appropriate for linear models"
   ]
  },
  {
   "cell_type": "markdown",
   "id": "e72ac3eb",
   "metadata": {},
   "source": [
    "## Part 3: Observations/Interpretation (3 marks)\n",
    "\n",
    "Describe any pattern you see in the results. Relate your findings to what we discussed during lectures. Include data to justify your findings.\n",
    "\n",
    "\n",
    "*ADD YOUR FINDINGS HERE*"
   ]
  },
  {
   "cell_type": "markdown",
   "id": "22a17da9-1a0b-4c08-bb0c-1d9fcf03cc1c",
   "metadata": {},
   "source": [
    "I think the overall pattern was that the data is not linear and I eventually went to look up the yellowbrick website on the concrete dataset and it states that the data is \"highly non-linear\" which makes sense why the linear regression model was not great, with the r2 of 0.609 for training and 0.637 for validation. \n",
    "I did try plotting the data below to see if that would help me understand the results but as the scatterplot shows, the data is everywhere and is helps to prove the point that its non linear data and likely needs a non-linear model. "
   ]
  },
  {
   "cell_type": "code",
   "execution_count": 108,
   "id": "1fa13cd8-18a8-47c2-a32d-d8d100e3b718",
   "metadata": {
    "tags": []
   },
   "outputs": [
    {
     "data": {
      "image/png": "[encoded data removed]",
      "text/plain": [
       "<Figure size 800x550 with 1 Axes>"
      ]
     },
     "metadata": {},
     "output_type": "display_data"
    }
   ],
   "source": [
    "import matplotlib.pyplot as plt\n",
    "\n",
    "plt.scatter(y_train_pred, y_train)\n",
    "plt.plot([0, 80], [0, 80], color=\"pink\")\n",
    "\n",
    "plt.xlabel('Predicted Values')\n",
    "plt.ylabel('Real Values')\n",
    "plt.title('Real vs. Predicted Values for Training Set')\n",
    "\n",
    "plt.show()"
   ]
  },
  {
   "cell_type": "markdown",
   "id": "40b84eed",
   "metadata": {},
   "source": [
    "## Part 4: Reflection (2 marks)\n",
    "Include a sentence or two about:\n",
    "- what you liked or disliked,\n",
    "- found interesting, confusing, challangeing, motivating\n",
    "while working on this assignment.\n",
    "\n",
    "\n",
    "*ADD YOUR THOUGHTS HERE*"
   ]
  },
  {
   "cell_type": "markdown",
   "id": "0a872ef6-780f-4b8d-81d7-dc4d9f44f396",
   "metadata": {},
   "source": [
    "I found it challenging to interpret the results of the models. I was initially convinced that the data had to be linear and it took a while of me going through the notes and previous lab examples to finally come to the conclusion that the data was not linear and I think that time helped solidy those concepts. I liked that we had gone through all the examples in class that it was not difficult to implement."
   ]
  },
  {
   "cell_type": "markdown",
   "id": "db951b3a",
   "metadata": {},
   "source": [
    "## Part 5: Bonus Question (4 marks)\n",
    "\n",
    "Repeat Part 2 with Ridge and Lasso regression to see if you can improve the accuracy results. Which method and what value of alpha gave you the best R^2 score? Is this score \"good enough\"? Explain why or why not.\n",
    "\n",
    "**Remember**: Only test values of alpha from 0.001 to 100 along the logorithmic scale."
   ]
  },
  {
   "cell_type": "markdown",
   "id": "ab798f31-8573-4427-b28f-a766be4cc9a1",
   "metadata": {},
   "source": [
    "My values are not changing much for r2 and the mse for either model and when I change the alpha values, it changes so little. My understanding is that the ridge model can be used to help with overfitting by changing alpha, via regularization, but the problem with the linear regression, was not overfitting. I think the lasso model also helps with overfitting via regularization, but it allows some features to have no weight, which also is not doing much. So overall, linear model is not appropriate for the dataset."
   ]
  },
  {
   "cell_type": "code",
   "execution_count": 150,
   "id": "47623d44",
   "metadata": {},
   "outputs": [
    {
     "name": "stdout",
     "output_type": "stream",
     "text": [
      "Training score: 0.64287\n",
      "Validation score: 0.59272\n",
      "Validation mse: 111.85324\n"
     ]
    }
   ],
   "source": [
    "# TO DO: ADD YOUR CODE HERE\n",
    "# Ridge Regression\n",
    "\n",
    "X, y = load_concrete()\n",
    "X_train, X_val, y_train, y_val = train_test_split(X, y, test_size=0.8, random_state=0)\n",
    "\n",
    "from sklearn.linear_model import Ridge\n",
    "\n",
    "ridge = Ridge().fit(X_train, y_train)\n",
    "y_pred = ridge.predict(X_val)\n",
    "\n",
    "print(\"Training score: {:.5f}\".format(ridge.score(X_train, y_train)))\n",
    "print(\"Validation score: {:.5f}\".format(ridge.score(X_val, y_val)))\n",
    "\n",
    "# Evaluate the model\n",
    "mse = mean_squared_error(y_val, y_pred)\n",
    "print(\"Validation mse: {:.5f}\".format(mse))"
   ]
  },
  {
   "cell_type": "code",
   "execution_count": 152,
   "id": "9d0a169c-39d0-43ab-a62f-c01b80ef0184",
   "metadata": {
    "tags": []
   },
   "outputs": [
    {
     "name": "stdout",
     "output_type": "stream",
     "text": [
      "Training score: 0.64287\n",
      "Validation score: 0.59271\n",
      "Validation mse: 111.85520\n"
     ]
    }
   ],
   "source": [
    "ridge10 = Ridge(alpha=0.01).fit(X_train, y_train)\n",
    "y_pred = ridge10.predict(X_val)\n",
    "\n",
    "print(\"Training score: {:.5f}\".format(ridge10.score(X_train, y_train)))\n",
    "print(\"Validation score: {:.5f}\".format(ridge10.score(X_val, y_val)))\n",
    "mse = mean_squared_error(y_val, y_pred)\n",
    "print(\"Validation mse: {:.5f}\".format(mse))"
   ]
  },
  {
   "cell_type": "code",
   "execution_count": 135,
   "id": "80a0e6f8-37f7-4065-8c95-ebf323c20d71",
   "metadata": {
    "tags": []
   },
   "outputs": [
    {
     "name": "stdout",
     "output_type": "stream",
     "text": [
      "Training set score: 0.64265\n",
      "Validation set score: 0.59452\n",
      "Number of features used: 8\n"
     ]
    }
   ],
   "source": [
    "# Lasso Regression\n",
    "from sklearn.linear_model import Lasso\n",
    "\n",
    "lasso = Lasso().fit(X_train, y_train)\n",
    "print(\"Training set score: {:.5f}\".format(lasso.score(X_train, y_train)))\n",
    "print(\"Validation set score: {:.5f}\".format(lasso.score(X_val, y_val)))\n",
    "print(\"Number of features used:\", np.sum(lasso.coef_ != 0))"
   ]
  },
  {
   "cell_type": "code",
   "execution_count": 156,
   "id": "4dd515d1-1a4a-4135-b7dc-770206f31dd3",
   "metadata": {
    "tags": []
   },
   "outputs": [
    {
     "name": "stdout",
     "output_type": "stream",
     "text": [
      "Training set score: 0.64287\n",
      "Validation set score: 0.59273\n",
      "Number of features used: 8\n"
     ]
    }
   ],
   "source": [
    "# changing the alpha\n",
    "lasso001 = Lasso(alpha=0.01).fit(X_train, y_train)\n",
    "print(\"Training set score: {:.5f}\".format(lasso001.score(X_train, y_train)))\n",
    "print(\"Validation set score: {:.5f}\".format(lasso001.score(X_val, y_val)))\n",
    "print(\"Number of features used:\", np.sum(lasso001.coef_ != 0))"
   ]
  },
  {
   "cell_type": "code",
   "execution_count": null,
   "id": "f6c9b347-77bd-419d-8920-e21ea5379a74",
   "metadata": {},
   "outputs": [],
   "source": []
  }
 ],
 "metadata": {
  "kernelspec": {
   "display_name": "Python 3 (ipykernel)",
   "language": "python",
   "name": "python3"
  },
  "language_info": {
   "codemirror_mode": {
    "name": "ipython",
    "version": 3
   },
   "file_extension": ".py",
   "mimetype": "text/x-python",
   "name": "python",
   "nbconvert_exporter": "python",
   "pygments_lexer": "ipython3",
   "version": "3.11.5"
  }
 },
 "nbformat": 4,
 "nbformat_minor": 5
}
